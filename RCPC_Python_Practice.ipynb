{
 "cells": [
  {
   "cell_type": "code",
   "execution_count": null,
   "metadata": {},
   "outputs": [],
   "source": []
  },
  {
   "cell_type": "code",
   "execution_count": null,
   "metadata": {},
   "outputs": [],
   "source": []
  },
  {
   "cell_type": "code",
   "execution_count": null,
   "metadata": {},
   "outputs": [],
   "source": []
  },
  {
   "cell_type": "code",
   "execution_count": null,
   "metadata": {},
   "outputs": [],
   "source": []
  },
  {
   "cell_type": "code",
   "execution_count": 6,
   "metadata": {},
   "outputs": [
    {
     "name": "stdout",
     "output_type": "stream",
     "text": [
      "Hello World!\n"
     ]
    }
   ],
   "source": [
    "print(\"Hello World!\") # the first program"
   ]
  },
  {
   "cell_type": "code",
   "execution_count": 4,
   "metadata": {},
   "outputs": [
    {
     "name": "stdout",
     "output_type": "stream",
     "text": [
      "Welcome to the world of Python\n"
     ]
    }
   ],
   "source": [
    "print(\"Welcome to the world of Python\")"
   ]
  },
  {
   "cell_type": "code",
   "execution_count": null,
   "metadata": {},
   "outputs": [],
   "source": [
    "What is Github?"
   ]
  },
  {
   "cell_type": "code",
   "execution_count": null,
   "metadata": {},
   "outputs": [],
   "source": []
  },
  {
   "cell_type": "code",
   "execution_count": null,
   "metadata": {},
   "outputs": [],
   "source": [
    "The Fundamentals of Python Programming"
   ]
  },
  {
   "cell_type": "code",
   "execution_count": null,
   "metadata": {},
   "outputs": [],
   "source": [
    "Variables"
   ]
  },
  {
   "cell_type": "code",
   "execution_count": 8,
   "metadata": {},
   "outputs": [],
   "source": [
    "#Introduction to Variables in Python"
   ]
  },
  {
   "cell_type": "code",
   "execution_count": null,
   "metadata": {},
   "outputs": [],
   "source": []
  },
  {
   "cell_type": "code",
   "execution_count": null,
   "metadata": {},
   "outputs": [],
   "source": [
    "#Introduction to Variables in Python"
   ]
  },
  {
   "cell_type": "code",
   "execution_count": 9,
   "metadata": {},
   "outputs": [
    {
     "data": {
      "text/plain": [
       "5"
      ]
     },
     "execution_count": 9,
     "metadata": {},
     "output_type": "execute_result"
    }
   ],
   "source": [
    "x=2\n",
    "y=3\n",
    "x+y"
   ]
  },
  {
   "cell_type": "code",
   "execution_count": 10,
   "metadata": {},
   "outputs": [],
   "source": [
    "#What are Variable?\n",
    "\n",
    "Variable simply are nothing but value holders"
   ]
  },
  {
   "cell_type": "code",
   "execution_count": null,
   "metadata": {},
   "outputs": [],
   "source": [
    "# again variables will be forming as the building blocks in multiple things while programming in python"
   ]
  },
  {
   "cell_type": "code",
   "execution_count": null,
   "metadata": {},
   "outputs": [],
   "source": [
    "Rules for declaring the variable\n",
    "3 important rules\n",
    "1. Rule No. 1 --- No name space while declaring the variables"
   ]
  },
  {
   "cell_type": "code",
   "execution_count": 13,
   "metadata": {},
   "outputs": [
    {
     "ename": "SyntaxError",
     "evalue": "invalid syntax (<ipython-input-13-388740b42058>, line 1)",
     "output_type": "error",
     "traceback": [
      "\u001b[1;36m  File \u001b[1;32m\"<ipython-input-13-388740b42058>\"\u001b[1;36m, line \u001b[1;32m1\u001b[0m\n\u001b[1;33m    first name = \"Somiron\"\u001b[0m\n\u001b[1;37m          ^\u001b[0m\n\u001b[1;31mSyntaxError\u001b[0m\u001b[1;31m:\u001b[0m invalid syntax\n"
     ]
    }
   ],
   "source": [
    "first name = \"Somiron\"\n",
    "print(first name)"
   ]
  },
  {
   "cell_type": "code",
   "execution_count": 22,
   "metadata": {},
   "outputs": [
    {
     "name": "stdout",
     "output_type": "stream",
     "text": [
      "Somiron\n"
     ]
    }
   ],
   "source": [
    "firstname = 'Somiron'\n",
    "print(firstname)"
   ]
  },
  {
   "cell_type": "code",
   "execution_count": null,
   "metadata": {},
   "outputs": [],
   "source": []
  },
  {
   "cell_type": "code",
   "execution_count": null,
   "metadata": {},
   "outputs": [],
   "source": []
  },
  {
   "cell_type": "code",
   "execution_count": 14,
   "metadata": {},
   "outputs": [
    {
     "name": "stdout",
     "output_type": "stream",
     "text": [
      "Somiron\n"
     ]
    }
   ],
   "source": [
    "firstname = \"Somiron\"\n",
    "print(firstname)"
   ]
  },
  {
   "cell_type": "code",
   "execution_count": 15,
   "metadata": {},
   "outputs": [
    {
     "name": "stdout",
     "output_type": "stream",
     "text": [
      "Somiron\n"
     ]
    }
   ],
   "source": [
    "first_name = \"Somiron\"\n",
    "print(first_name)"
   ]
  },
  {
   "cell_type": "code",
   "execution_count": null,
   "metadata": {},
   "outputs": [],
   "source": []
  },
  {
   "cell_type": "code",
   "execution_count": null,
   "metadata": {},
   "outputs": [],
   "source": [
    "2. Rule No. 2 --- Variable should not start with a number"
   ]
  },
  {
   "cell_type": "code",
   "execution_count": 16,
   "metadata": {},
   "outputs": [
    {
     "ename": "SyntaxError",
     "evalue": "invalid syntax (<ipython-input-16-56f8cba58307>, line 1)",
     "output_type": "error",
     "traceback": [
      "\u001b[1;36m  File \u001b[1;32m\"<ipython-input-16-56f8cba58307>\"\u001b[1;36m, line \u001b[1;32m1\u001b[0m\n\u001b[1;33m    1name = \"Somiron\"\u001b[0m\n\u001b[1;37m     ^\u001b[0m\n\u001b[1;31mSyntaxError\u001b[0m\u001b[1;31m:\u001b[0m invalid syntax\n"
     ]
    }
   ],
   "source": [
    "1name = \"Somiron\"\n",
    "print(1name)"
   ]
  },
  {
   "cell_type": "code",
   "execution_count": 17,
   "metadata": {},
   "outputs": [
    {
     "name": "stdout",
     "output_type": "stream",
     "text": [
      "Somiron\n"
     ]
    }
   ],
   "source": [
    "name1 = \"Somiron\"\n",
    "print(name1)"
   ]
  },
  {
   "cell_type": "code",
   "execution_count": null,
   "metadata": {},
   "outputs": [],
   "source": []
  },
  {
   "cell_type": "code",
   "execution_count": null,
   "metadata": {},
   "outputs": [],
   "source": [
    "3. Rule No 3. --- Variable name should not contain any special character\n",
    "\n",
    "like --- @, #, $, %, &"
   ]
  },
  {
   "cell_type": "code",
   "execution_count": 18,
   "metadata": {},
   "outputs": [
    {
     "ename": "SyntaxError",
     "evalue": "invalid syntax (<ipython-input-18-86a67e9a3398>, line 1)",
     "output_type": "error",
     "traceback": [
      "\u001b[1;36m  File \u001b[1;32m\"<ipython-input-18-86a67e9a3398>\"\u001b[1;36m, line \u001b[1;32m1\u001b[0m\n\u001b[1;33m    name@ = \"Somiron\"\u001b[0m\n\u001b[1;37m          ^\u001b[0m\n\u001b[1;31mSyntaxError\u001b[0m\u001b[1;31m:\u001b[0m invalid syntax\n"
     ]
    }
   ],
   "source": [
    "name@ = \"Somiron\"\n",
    "print(name@)"
   ]
  },
  {
   "cell_type": "code",
   "execution_count": 21,
   "metadata": {},
   "outputs": [
    {
     "name": "stdout",
     "output_type": "stream",
     "text": [
      "Somiron\n"
     ]
    }
   ],
   "source": [
    "NAME = \"Somiron\"\n",
    "print(NAME)"
   ]
  },
  {
   "cell_type": "code",
   "execution_count": null,
   "metadata": {},
   "outputs": [],
   "source": []
  },
  {
   "cell_type": "code",
   "execution_count": null,
   "metadata": {},
   "outputs": [],
   "source": [
    "# Introduction to data types in Python\n",
    "\n",
    "Strings\n",
    "Numbers --- Integers and Floats\n",
    "List\n",
    "Tuple\n",
    "dictionary"
   ]
  },
  {
   "cell_type": "code",
   "execution_count": null,
   "metadata": {},
   "outputs": [],
   "source": [
    "Strings --- str\n",
    "Integers --- int\n",
    "Floats --- float\n",
    "List --- list\n",
    "Tuple --- tuple\n",
    "Dictionary --- dict"
   ]
  },
  {
   "cell_type": "code",
   "execution_count": null,
   "metadata": {},
   "outputs": [],
   "source": []
  },
  {
   "cell_type": "code",
   "execution_count": null,
   "metadata": {},
   "outputs": [],
   "source": [
    "So now we would be getting into each type of datatypes and discuss each"
   ]
  },
  {
   "cell_type": "code",
   "execution_count": null,
   "metadata": {},
   "outputs": [],
   "source": []
  },
  {
   "cell_type": "code",
   "execution_count": null,
   "metadata": {},
   "outputs": [],
   "source": [
    "Classification of Data types\n",
    "2 categories\n",
    "\n",
    "1. Mutable Data type # Flexible\n",
    "2. Immutable Data type # Fixed"
   ]
  },
  {
   "cell_type": "code",
   "execution_count": null,
   "metadata": {},
   "outputs": [],
   "source": [
    "Mutable data type means which can be edited and we can alter once it has been declared"
   ]
  },
  {
   "cell_type": "code",
   "execution_count": null,
   "metadata": {},
   "outputs": [],
   "source": [
    "Immutable data type is which we cannot edit or alter once it has been declared"
   ]
  },
  {
   "cell_type": "code",
   "execution_count": null,
   "metadata": {},
   "outputs": [],
   "source": []
  },
  {
   "cell_type": "code",
   "execution_count": null,
   "metadata": {},
   "outputs": [],
   "source": [
    "Introduction to String Data type\n",
    "\n",
    "Overview or Defination --- a string is nothing but a series of characters enclosed in quotes"
   ]
  },
  {
   "cell_type": "code",
   "execution_count": null,
   "metadata": {},
   "outputs": [],
   "source": [
    "# Classification --- it is classified as an immutable data type"
   ]
  },
  {
   "cell_type": "code",
   "execution_count": null,
   "metadata": {},
   "outputs": [],
   "source": [
    "# How to define a string?\n",
    "\n",
    "to define a string we have 3 possible ways\n",
    "\n",
    "1. Single quote\n",
    "2. Double quote\n",
    "3. Tripple quote"
   ]
  },
  {
   "cell_type": "code",
   "execution_count": 29,
   "metadata": {},
   "outputs": [
    {
     "name": "stdout",
     "output_type": "stream",
     "text": [
      "Somiron\n"
     ]
    }
   ],
   "source": [
    "name = 'Somiron'\n",
    "print(name)"
   ]
  },
  {
   "cell_type": "code",
   "execution_count": 28,
   "metadata": {},
   "outputs": [
    {
     "name": "stdout",
     "output_type": "stream",
     "text": [
      "Somiron\n"
     ]
    }
   ],
   "source": [
    "name1 = \"Somiron\"\n",
    "print(name1)"
   ]
  },
  {
   "cell_type": "code",
   "execution_count": 30,
   "metadata": {},
   "outputs": [
    {
     "name": "stdout",
     "output_type": "stream",
     "text": [
      "Somiron\n"
     ]
    }
   ],
   "source": [
    "name2 = '''Somiron'''\n",
    "print(name2)"
   ]
  },
  {
   "cell_type": "code",
   "execution_count": null,
   "metadata": {},
   "outputs": [],
   "source": []
  },
  {
   "cell_type": "code",
   "execution_count": null,
   "metadata": {},
   "outputs": [],
   "source": [
    "Introduction to String Methods\n",
    "\n",
    "What do you mean by the word Method?\n",
    "\n",
    "Methods are nothing but built in programs in python\n"
   ]
  },
  {
   "cell_type": "code",
   "execution_count": null,
   "metadata": {},
   "outputs": [],
   "source": [
    "type Method\n",
    "\n",
    "It is used to knowing the datatype of the variable that we have defined"
   ]
  },
  {
   "cell_type": "code",
   "execution_count": 33,
   "metadata": {},
   "outputs": [
    {
     "data": {
      "text/plain": [
       "str"
      ]
     },
     "execution_count": 33,
     "metadata": {},
     "output_type": "execute_result"
    }
   ],
   "source": [
    "type(name)"
   ]
  },
  {
   "cell_type": "code",
   "execution_count": 34,
   "metadata": {},
   "outputs": [
    {
     "data": {
      "text/plain": [
       "str"
      ]
     },
     "execution_count": 34,
     "metadata": {},
     "output_type": "execute_result"
    }
   ],
   "source": [
    "type(name1)"
   ]
  },
  {
   "cell_type": "code",
   "execution_count": null,
   "metadata": {},
   "outputs": [],
   "source": [
    "# Python Built in Functions\n",
    "\n",
    "abs()\tReturns the absolute value of a number\n",
    "all()\tReturns True if all items in an iterable object are true\n",
    "any()\tReturns True if any item in an iterable object is true\n",
    "ascii()\tReturns a readable version of an object. Replaces none-ascii characters with escape character\n",
    "bin()\tReturns the binary version of a number\n",
    "bool()\tReturns the boolean value of the specified object\n",
    "bytearray()\tReturns an array of bytes\n",
    "bytes()\tReturns a bytes object\n",
    "callable()\tReturns True if the specified object is callable, otherwise False\n",
    "chr()\tReturns a character from the specified Unicode code.\n",
    "classmethod()\tConverts a method into a class method\n",
    "compile()\tReturns the specified source as an object, ready to be executed\n",
    "complex()\tReturns a complex number\n",
    "delattr()\tDeletes the specified attribute (property or method) from the specified object\n",
    "dict()\tReturns a dictionary (Array)\n",
    "dir()\tReturns a list of the specified object's properties and methods\n",
    "divmod()\tReturns the quotient and the remainder when argument1 is divided by argument2\n",
    "enumerate()\tTakes a collection (e.g. a tuple) and returns it as an enumerate object\n",
    "eval()\tEvaluates and executes an expression\n",
    "exec()\tExecutes the specified code (or object)\n",
    "filter()\tUse a filter function to exclude items in an iterable object\n",
    "float()\tReturns a floating point number\n",
    "format()\tFormats a specified value\n",
    "frozenset()\tReturns a frozenset object\n",
    "getattr()\tReturns the value of the specified attribute (property or method)\n",
    "globals()\tReturns the current global symbol table as a dictionary\n",
    "hasattr()\tReturns True if the specified object has the specified attribute (property/method)\n",
    "hash()\tReturns the hash value of a specified object\n",
    "help()\tExecutes the built-in help system\n",
    "hex()\tConverts a number into a hexadecimal value\n",
    "id()\tReturns the id of an object\n",
    "input()\tAllowing user input\n",
    "int()\tReturns an integer number\n",
    "isinstance()\tReturns True if a specified object is an instance of a specified object\n",
    "issubclass()\tReturns True if a specified class is a subclass of a specified object\n",
    "iter()\tReturns an iterator object\n",
    "len()\tReturns the length of an object\n",
    "list()\tReturns a list\n",
    "locals()\tReturns an updated dictionary of the current local symbol table\n",
    "map()\tReturns the specified iterator with the specified function applied to each item\n",
    "max()\tReturns the largest item in an iterable\n",
    "memoryview()\tReturns a memory view object\n",
    "min()\tReturns the smallest item in an iterable\n",
    "next()\tReturns the next item in an iterable\n",
    "object()\tReturns a new object\n",
    "oct()\tConverts a number into an octal\n",
    "open()\tOpens a file and returns a file object\n",
    "ord()\tConvert an integer representing the Unicode of the specified character\n",
    "pow()\tReturns the value of x to the power of y\n",
    "print()\tPrints to the standard output device\n",
    "property()\tGets, sets, deletes a property\n",
    "range()\tReturns a sequence of numbers, starting from 0 and increments by 1 (by default)\n",
    "repr()\tReturns a readable version of an object\n",
    "reversed()\tReturns a reversed iterator\n",
    "round()\tRounds a numbers\n",
    "set()\tReturns a new set object\n",
    "setattr()\tSets an attribute (property/method) of an object\n",
    "slice()\tReturns a slice object\n",
    "sorted()\tReturns a sorted list\n",
    "@staticmethod()\tConverts a method into a static method\n",
    "str()\tReturns a string object\n",
    "sum()\tSums the items of an iterator\n",
    "super()\tReturns an object that represents the parent class\n",
    "tuple()\tReturns a tuple\n",
    "type()\tReturns the type of an object\n",
    "vars()\tReturns the __dict__ property of an object\n",
    "zip()\tReturns an iterator, from two or more iterators"
   ]
  },
  {
   "cell_type": "code",
   "execution_count": null,
   "metadata": {},
   "outputs": [],
   "source": []
  },
  {
   "cell_type": "code",
   "execution_count": null,
   "metadata": {},
   "outputs": [],
   "source": [
    "# Python String Methods\n",
    "\n",
    "capitalize()\tConverts the first character to upper case\n",
    "casefold()\tConverts string into lower case\n",
    "center()\tReturns a centered string\n",
    "count()\tReturns the number of times a specified value occurs in a string\n",
    "encode()\tReturns an encoded version of the string\n",
    "endswith()\tReturns true if the string ends with the specified value\n",
    "expandtabs()\tSets the tab size of the string\n",
    "find()\tSearches the string for a specified value and returns the position of where it was found\n",
    "format()\tFormats specified values in a string\n",
    "format_map()\tFormats specified values in a string\n",
    "index()\tSearches the string for a specified value and returns the position of where it was found\n",
    "isalnum()\tReturns True if all characters in the string are alphanumeric\n",
    "isalpha()\tReturns True if all characters in the string are in the alphabet\n",
    "isdecimal()\tReturns True if all characters in the string are decimals\n",
    "isdigit()\tReturns True if all characters in the string are digits\n",
    "isidentifier()\tReturns True if the string is an identifier\n",
    "islower()\tReturns True if all characters in the string are lower case\n",
    "isnumeric()\tReturns True if all characters in the string are numeric\n",
    "isprintable()\tReturns True if all characters in the string are printable\n",
    "isspace()\tReturns True if all characters in the string are whitespaces\n",
    "istitle()\tReturns True if the string follows the rules of a title\n",
    "isupper()\tReturns True if all characters in the string are upper case\n",
    "join()\tJoins the elements of an iterable to the end of the string\n",
    "ljust()\tReturns a left justified version of the string\n",
    "lower()\tConverts a string into lower case\n",
    "lstrip()\tReturns a left trim version of the string\n",
    "maketrans()\tReturns a translation table to be used in translations\n",
    "partition()\tReturns a tuple where the string is parted into three parts\n",
    "replace()\tReturns a string where a specified value is replaced with a specified value\n",
    "rfind()\tSearches the string for a specified value and returns the last position of where it was found\n",
    "rindex()\tSearches the string for a specified value and returns the last position of where it was found\n",
    "rjust()\tReturns a right justified version of the string\n",
    "rpartition()\tReturns a tuple where the string is parted into three parts\n",
    "rsplit()\tSplits the string at the specified separator, and returns a list\n",
    "rstrip()\tReturns a right trim version of the string\n",
    "split()\tSplits the string at the specified separator, and returns a list\n",
    "splitlines()\tSplits the string at line breaks and returns a list\n",
    "startswith()\tReturns true if the string starts with the specified value\n",
    "strip()\tReturns a trimmed version of the string\n",
    "swapcase()\tSwaps cases, lower case becomes upper case and vice versa\n",
    "title()\tConverts the first character of each word to upper case\n",
    "translate()\tReturns a translated string\n",
    "upper()\tConverts a string into upper case\n",
    "zfill()\tFills the string with a specified number of 0 values at the beginning\n",
    "\n",
    "\n",
    "\n",
    "# Note: All string methods returns new values. They do not change the original string."
   ]
  },
  {
   "cell_type": "code",
   "execution_count": null,
   "metadata": {},
   "outputs": [],
   "source": []
  },
  {
   "cell_type": "code",
   "execution_count": null,
   "metadata": {},
   "outputs": [],
   "source": [
    "# Python List/Array Methods\n",
    "\n",
    "append()\tAdds an element at the end of the list\n",
    "clear()\tRemoves all the elements from the list\n",
    "copy()\tReturns a copy of the list\n",
    "count()\tReturns the number of elements with the specified value\n",
    "extend()\tAdd the elements of a list (or any iterable), to the end of the current list\n",
    "index()\tReturns the index of the first element with the specified value\n",
    "insert()\tAdds an element at the specified position\n",
    "pop()\tRemoves the element at the specified position\n",
    "remove()\tRemoves the first item with the specified value\n",
    "reverse()\tReverses the order of the list\n",
    "sort()\tSorts the list\n",
    "\n",
    "\n",
    "# Note: Python does not have built-in support for Arrays, but Python Lists can be used instead."
   ]
  },
  {
   "cell_type": "code",
   "execution_count": null,
   "metadata": {},
   "outputs": [],
   "source": []
  },
  {
   "cell_type": "code",
   "execution_count": null,
   "metadata": {},
   "outputs": [],
   "source": [
    "# Python Dictionary Methods\n",
    "\n",
    "clear()\tRemoves all the elements from the dictionary\n",
    "copy()\tReturns a copy of the dictionary\n",
    "fromkeys()\tReturns a dictionary with the specified keys and value\n",
    "get()\tReturns the value of the specified key\n",
    "items()\tReturns a list containing a tuple for each key value pair\n",
    "keys()\tReturns a list containing the dictionary's keys\n",
    "pop()\tRemoves the element with the specified key\n",
    "popitem()\tRemoves the last inserted key-value pair\n",
    "setdefault()\tReturns the value of the specified key. If the key does not exist: insert the key, with the specified value\n",
    "update()\tUpdates the dictionary with the specified key-value pairs\n",
    "values()\tReturns a list of all the values in the dictionary"
   ]
  },
  {
   "cell_type": "code",
   "execution_count": null,
   "metadata": {},
   "outputs": [],
   "source": []
  },
  {
   "cell_type": "code",
   "execution_count": null,
   "metadata": {},
   "outputs": [],
   "source": [
    "# Python Tuple Methods\n",
    "\n",
    "Python has two built-in methods that you can use on tuples.\n",
    "\n",
    "count()\tReturns the number of times a specified value occurs in a tuple\n",
    "index()\tSearches the tuple for a specified value and returns the position of where it was found\n"
   ]
  },
  {
   "cell_type": "code",
   "execution_count": null,
   "metadata": {},
   "outputs": [],
   "source": []
  }
 ],
 "metadata": {
  "kernelspec": {
   "display_name": "Python 3",
   "language": "python",
   "name": "python3"
  },
  "language_info": {
   "codemirror_mode": {
    "name": "ipython",
    "version": 3
   },
   "file_extension": ".py",
   "mimetype": "text/x-python",
   "name": "python",
   "nbconvert_exporter": "python",
   "pygments_lexer": "ipython3",
   "version": "3.8.5"
  }
 },
 "nbformat": 4,
 "nbformat_minor": 4
}
